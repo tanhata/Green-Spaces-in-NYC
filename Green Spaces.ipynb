{
 "cells": [
  {
   "cell_type": "code",
   "execution_count": 2,
   "metadata": {
    "ExecuteTime": {
     "end_time": "2021-02-13T02:17:36.610453Z",
     "start_time": "2021-02-13T02:17:36.483643Z"
    }
   },
   "outputs": [
    {
     "name": "stdout",
     "output_type": "stream",
     "text": [
      "                                                NAME311 BOROUGH   ACRES\n",
      "0                          Seaside Wildlife Nature Park       R  20.907\n",
      "1                                      Strippoli Square       Q   0.061\n",
      "2                                     D'Emic Playground       B   1.130\n",
      "3                                          Harding Park       X   2.160\n",
      "4                                  Wakefield Playground       X   1.104\n",
      "...                                                 ...     ...     ...\n",
      "2010                        Joseph Daniel Wilson Garden       M   0.117\n",
      "2011                           Fiorello La Guardia Park       M   0.545\n",
      "2012                                               Park       Q   0.006\n",
      "2013  All People's Church of the Apostolic Faith Com...       B   0.064\n",
      "2014                                  Mount Hope Garden       X   0.280\n",
      "\n",
      "[2015 rows x 3 columns]\n"
     ]
    }
   ],
   "source": [
    "# sorting the data, extracting only needed columns\n",
    "\n",
    "import pandas as pd\n",
    "data = pd.read_csv (r'C:\\Users\\Tanha\\Downloads\\OpenData_ParksProperties.csv)   \n",
    "df = pd.DataFrame(data, columns= ['NAME311','BOROUGH','ACRES'])\n",
    "print (df)"
   ]
  },
  {
   "cell_type": "code",
   "execution_count": 3,
   "metadata": {
    "ExecuteTime": {
     "end_time": "2021-02-13T02:17:41.270377Z",
     "start_time": "2021-02-13T02:17:41.250096Z"
    }
   },
   "outputs": [
    {
     "data": {
      "text/plain": [
       "Index(['the_geom', 'GISPROPNUM', 'OBJECTID', 'OMPPROPID', 'DEPARTMENT',\n",
       "       'PERMITDIST', 'PERMITPARE', 'PARENTID', 'LOCATION', 'COMMUNITYB',\n",
       "       'COUNCILDIS', 'PRECINCT', 'ZIPCODE', 'BOROUGH', 'ACRES', 'RETIRED',\n",
       "       'EAPPLY', 'PIP_RATABL', 'GISOBJID', 'CLASS', 'COMMISSION', 'ACQUISITIO',\n",
       "       'ADDRESS', 'JURISDICTI', 'MAPPED', 'NAME311', 'PERMIT', 'SIGNNAME',\n",
       "       'SUBCATEGOR', 'TYPECATEGO', 'URL', 'WATERFRONT', 'NYS_ASSEMB',\n",
       "       'NYS_SENATE', 'US_CONGRES', 'GlobalID'],\n",
       "      dtype='object')"
      ]
     },
     "execution_count": 3,
     "metadata": {},
     "output_type": "execute_result"
    }
   ],
   "source": [
    "# all the names of the columns\n",
    "\n",
    "data.keys()"
   ]
  },
  {
   "cell_type": "code",
   "execution_count": 11,
   "metadata": {
    "ExecuteTime": {
     "end_time": "2021-02-13T02:24:31.620131Z",
     "start_time": "2021-02-13T02:24:31.509683Z"
    }
   },
   "outputs": [
    {
     "name": "stdout",
     "output_type": "stream",
     "text": [
      "0       20.907\n",
      "1        0.061\n",
      "2        1.130\n",
      "3        2.160\n",
      "4        1.104\n",
      "         ...  \n",
      "2010     0.117\n",
      "2011     0.545\n",
      "2012     0.006\n",
      "2013     0.064\n",
      "2014     0.280\n",
      "Name: ACRES, Length: 2015, dtype: float64\n"
     ]
    }
   ],
   "source": [
    "# the number in acres in every borough\n",
    "\n",
    "import pandas as pd\n",
    "data = pd.read_csv (r'C:\\Users\\Tanha\\Downloads\\OpenData_ParksProperties.csv') \n",
    "\n",
    "df = pd.DataFrame(data, columns= ['BOROUGH','ACRES'])\n",
    "\n",
    "df['ACRES'] = df['ACRES'].replace(',', '')\n",
    "\n",
    "print(df['ACRES'])"
   ]
  },
  {
   "cell_type": "code",
   "execution_count": 41,
   "metadata": {
    "ExecuteTime": {
     "end_time": "2021-02-13T02:32:15.469211Z",
     "start_time": "2021-02-13T02:32:15.339072Z"
    }
   },
   "outputs": [
    {
     "name": "stdout",
     "output_type": "stream",
     "text": [
      "2871.13\n"
     ]
    }
   ],
   "source": [
    "# the sum of total acres in manhattan\n",
    "import pandas as pd\n",
    "data = pd.read_csv(\n",
    "    r'C:\\Users\\Tanha\\Downloads\\OpenData_ParksProperties.csv')\n",
    "\n",
    "df = pd.DataFrame(data, columns=['BOROUGH', 'ACRES'])\n",
    "\n",
    "for i in range(len(df['ACRES'])):\n",
    "    if ',' in str(df['ACRES'][i]):\n",
    "        df['ACRES'][i] = df['ACRES'][i].replace(',', '')\n",
    "\n",
    "manhattan_df = df[df['BOROUGH'] == 'M'].copy()\n",
    "\n",
    "manhattan_df ['ACRES'] = manhattan_df ['ACRES'].astype(float)\n",
    "sum_column = manhattan_df [\"ACRES\"].sum(axis=0)\n",
    "\n",
    "print(sum_column)"
   ]
  },
  {
   "cell_type": "code",
   "execution_count": 42,
   "metadata": {
    "ExecuteTime": {
     "end_time": "2021-02-13T02:32:37.566759Z",
     "start_time": "2021-02-13T02:32:37.549105Z"
    }
   },
   "outputs": [],
   "source": [
    "# checking to see if there are any ',' in the numbers of acres\n",
    "for entry in df['ACRES']:\n",
    "    if ',' in str(entry):\n",
    "        print(entry)"
   ]
  },
  {
   "cell_type": "code",
   "execution_count": 30,
   "metadata": {
    "ExecuteTime": {
     "end_time": "2021-02-13T02:29:00.529539Z",
     "start_time": "2021-02-13T02:29:00.519475Z"
    }
   },
   "outputs": [
    {
     "data": {
      "text/plain": [
       "array([1.000000e-03, 1.000000e-03, 1.000000e-03, ..., 9.204260e+02,\n",
       "       1.146430e+03, 2.771747e+03])"
      ]
     },
     "execution_count": 30,
     "metadata": {},
     "output_type": "execute_result"
    }
   ],
   "source": [
    "import numpy as np\n",
    "np.sort(df['ACRES'])"
   ]
  },
  {
   "cell_type": "code",
   "execution_count": 64,
   "metadata": {
    "ExecuteTime": {
     "end_time": "2021-02-13T02:37:57.828777Z",
     "start_time": "2021-02-13T02:37:57.801841Z"
    }
   },
   "outputs": [
    {
     "data": {
      "text/html": [
       "<div>\n",
       "<style scoped>\n",
       "    .dataframe tbody tr th:only-of-type {\n",
       "        vertical-align: middle;\n",
       "    }\n",
       "\n",
       "    .dataframe tbody tr th {\n",
       "        vertical-align: top;\n",
       "    }\n",
       "\n",
       "    .dataframe thead th {\n",
       "        text-align: right;\n",
       "    }\n",
       "</style>\n",
       "<table border=\"1\" class=\"dataframe\">\n",
       "  <thead>\n",
       "    <tr style=\"text-align: right;\">\n",
       "      <th></th>\n",
       "      <th>BOROUGH</th>\n",
       "      <th>ACRES</th>\n",
       "    </tr>\n",
       "  </thead>\n",
       "  <tbody>\n",
       "    <tr>\n",
       "      <th>10</th>\n",
       "      <td>M</td>\n",
       "      <td>0.090</td>\n",
       "    </tr>\n",
       "    <tr>\n",
       "      <th>14</th>\n",
       "      <td>M</td>\n",
       "      <td>1.275</td>\n",
       "    </tr>\n",
       "    <tr>\n",
       "      <th>18</th>\n",
       "      <td>M</td>\n",
       "      <td>1.451</td>\n",
       "    </tr>\n",
       "    <tr>\n",
       "      <th>28</th>\n",
       "      <td>M</td>\n",
       "      <td>0.385</td>\n",
       "    </tr>\n",
       "    <tr>\n",
       "      <th>30</th>\n",
       "      <td>M</td>\n",
       "      <td>0.718</td>\n",
       "    </tr>\n",
       "    <tr>\n",
       "      <th>...</th>\n",
       "      <td>...</td>\n",
       "      <td>...</td>\n",
       "    </tr>\n",
       "    <tr>\n",
       "      <th>1986</th>\n",
       "      <td>M</td>\n",
       "      <td>0.101</td>\n",
       "    </tr>\n",
       "    <tr>\n",
       "      <th>1998</th>\n",
       "      <td>M</td>\n",
       "      <td>1.945</td>\n",
       "    </tr>\n",
       "    <tr>\n",
       "      <th>2009</th>\n",
       "      <td>M</td>\n",
       "      <td>0.550</td>\n",
       "    </tr>\n",
       "    <tr>\n",
       "      <th>2010</th>\n",
       "      <td>M</td>\n",
       "      <td>0.117</td>\n",
       "    </tr>\n",
       "    <tr>\n",
       "      <th>2011</th>\n",
       "      <td>M</td>\n",
       "      <td>0.545</td>\n",
       "    </tr>\n",
       "  </tbody>\n",
       "</table>\n",
       "<p>386 rows × 2 columns</p>\n",
       "</div>"
      ],
      "text/plain": [
       "     BOROUGH  ACRES\n",
       "10         M  0.090\n",
       "14         M  1.275\n",
       "18         M  1.451\n",
       "28         M  0.385\n",
       "30         M  0.718\n",
       "...      ...    ...\n",
       "1986       M  0.101\n",
       "1998       M  1.945\n",
       "2009       M  0.550\n",
       "2010       M  0.117\n",
       "2011       M  0.545\n",
       "\n",
       "[386 rows x 2 columns]"
      ]
     },
     "execution_count": 64,
     "metadata": {},
     "output_type": "execute_result"
    }
   ],
   "source": [
    "manhattan_df"
   ]
  },
  {
   "cell_type": "code",
   "execution_count": 60,
   "metadata": {
    "ExecuteTime": {
     "end_time": "2021-02-13T02:37:23.029030Z",
     "start_time": "2021-02-13T02:37:23.008066Z"
    }
   },
   "outputs": [
    {
     "data": {
      "text/html": [
       "<div>\n",
       "<style scoped>\n",
       "    .dataframe tbody tr th:only-of-type {\n",
       "        vertical-align: middle;\n",
       "    }\n",
       "\n",
       "    .dataframe tbody tr th {\n",
       "        vertical-align: top;\n",
       "    }\n",
       "\n",
       "    .dataframe thead th {\n",
       "        text-align: right;\n",
       "    }\n",
       "</style>\n",
       "<table border=\"1\" class=\"dataframe\">\n",
       "  <thead>\n",
       "    <tr style=\"text-align: right;\">\n",
       "      <th></th>\n",
       "      <th>index</th>\n",
       "      <th>BOROUGH</th>\n",
       "      <th>ACRES</th>\n",
       "    </tr>\n",
       "  </thead>\n",
       "  <tbody>\n",
       "    <tr>\n",
       "      <th>0</th>\n",
       "      <td>0</td>\n",
       "      <td>R</td>\n",
       "      <td>20.907</td>\n",
       "    </tr>\n",
       "    <tr>\n",
       "      <th>1</th>\n",
       "      <td>1</td>\n",
       "      <td>Q</td>\n",
       "      <td>0.061</td>\n",
       "    </tr>\n",
       "    <tr>\n",
       "      <th>2</th>\n",
       "      <td>2</td>\n",
       "      <td>B</td>\n",
       "      <td>1.130</td>\n",
       "    </tr>\n",
       "    <tr>\n",
       "      <th>3</th>\n",
       "      <td>3</td>\n",
       "      <td>X</td>\n",
       "      <td>2.160</td>\n",
       "    </tr>\n",
       "    <tr>\n",
       "      <th>4</th>\n",
       "      <td>4</td>\n",
       "      <td>X</td>\n",
       "      <td>1.104</td>\n",
       "    </tr>\n",
       "    <tr>\n",
       "      <th>...</th>\n",
       "      <td>...</td>\n",
       "      <td>...</td>\n",
       "      <td>...</td>\n",
       "    </tr>\n",
       "    <tr>\n",
       "      <th>2010</th>\n",
       "      <td>2010</td>\n",
       "      <td>M</td>\n",
       "      <td>0.117</td>\n",
       "    </tr>\n",
       "    <tr>\n",
       "      <th>2011</th>\n",
       "      <td>2011</td>\n",
       "      <td>M</td>\n",
       "      <td>0.545</td>\n",
       "    </tr>\n",
       "    <tr>\n",
       "      <th>2012</th>\n",
       "      <td>2012</td>\n",
       "      <td>Q</td>\n",
       "      <td>0.006</td>\n",
       "    </tr>\n",
       "    <tr>\n",
       "      <th>2013</th>\n",
       "      <td>2013</td>\n",
       "      <td>B</td>\n",
       "      <td>0.064</td>\n",
       "    </tr>\n",
       "    <tr>\n",
       "      <th>2014</th>\n",
       "      <td>2014</td>\n",
       "      <td>X</td>\n",
       "      <td>0.280</td>\n",
       "    </tr>\n",
       "  </tbody>\n",
       "</table>\n",
       "<p>2015 rows × 3 columns</p>\n",
       "</div>"
      ],
      "text/plain": [
       "      index BOROUGH   ACRES\n",
       "0         0       R  20.907\n",
       "1         1       Q   0.061\n",
       "2         2       B   1.130\n",
       "3         3       X   2.160\n",
       "4         4       X   1.104\n",
       "...     ...     ...     ...\n",
       "2010   2010       M   0.117\n",
       "2011   2011       M   0.545\n",
       "2012   2012       Q   0.006\n",
       "2013   2013       B   0.064\n",
       "2014   2014       X   0.280\n",
       "\n",
       "[2015 rows x 3 columns]"
      ]
     },
     "execution_count": 60,
     "metadata": {},
     "output_type": "execute_result"
    }
   ],
   "source": [
    "df.reset_index()"
   ]
  },
  {
   "cell_type": "code",
   "execution_count": 8,
   "metadata": {
    "ExecuteTime": {
     "end_time": "2021-02-13T02:18:47.739797Z",
     "start_time": "2021-02-13T02:18:47.730376Z"
    }
   },
   "outputs": [
    {
     "data": {
      "text/plain": [
       "array(['R', 'Q', 'B', 'X', 'M'], dtype=object)"
      ]
     },
     "execution_count": 8,
     "metadata": {},
     "output_type": "execute_result"
    }
   ],
   "source": [
    "df['BOROUGH'].unique()"
   ]
  },
  {
   "cell_type": "code",
   "execution_count": 69,
   "metadata": {
    "ExecuteTime": {
     "end_time": "2021-02-13T02:38:53.345681Z",
     "start_time": "2021-02-13T02:38:53.328865Z"
    }
   },
   "outputs": [],
   "source": [
    "for entry in df[\"ACRES\"]:\n",
    "    if \",\" in str(entry):\n",
    "        print(entry)"
   ]
  },
  {
   "cell_type": "code",
   "execution_count": null,
   "metadata": {},
   "outputs": [],
   "source": []
  }
 ],
 "metadata": {
  "kernelspec": {
   "display_name": "Python 3",
   "language": "python",
   "name": "python3"
  },
  "language_info": {
   "codemirror_mode": {
    "name": "ipython",
    "version": 3
   },
   "file_extension": ".py",
   "mimetype": "text/x-python",
   "name": "python",
   "nbconvert_exporter": "python",
   "pygments_lexer": "ipython3",
   "version": "3.8.5"
  },
  "varInspector": {
   "cols": {
    "lenName": 16,
    "lenType": 16,
    "lenVar": 40
   },
   "kernels_config": {
    "python": {
     "delete_cmd_postfix": "",
     "delete_cmd_prefix": "del ",
     "library": "var_list.py",
     "varRefreshCmd": "print(var_dic_list())"
    },
    "r": {
     "delete_cmd_postfix": ") ",
     "delete_cmd_prefix": "rm(",
     "library": "var_list.r",
     "varRefreshCmd": "cat(var_dic_list()) "
    }
   },
   "types_to_exclude": [
    "module",
    "function",
    "builtin_function_or_method",
    "instance",
    "_Feature"
   ],
   "window_display": false
  }
 },
 "nbformat": 4,
 "nbformat_minor": 4
}
